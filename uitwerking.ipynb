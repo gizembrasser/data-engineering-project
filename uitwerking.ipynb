{
 "cells": [
  {
   "cell_type": "markdown",
   "metadata": {},
   "source": [
    "# Advertising on iffy newssites\n",
    "\n",
    "The [Iffy Index of Unreliable Sources](https://iffy.news/index/#methodology) by Media Bias/Fact Check (MBFC) maintains a list of news sites that regularly fail fact-checks and is a widely used research tool in the field of mis/disinformation. The data contains domain names and a compilation of credibility ratings from different sources. The list is compiled by a team of researchers, accepts feedback from publishers and is continually reconsidering past ratings.\n",
    "\n",
    "It's somewhat common for websites to have an ads.txt (Authorized Digital Sellers) URL when they generate revenue with their file. It specifies a text file that companies can host on their web servers. This file contains information about which advertisers are allowed to operate on the site. By parsing this information for news sites in the dataset we might be able to find interesting relationships between sites' credibility and their advertisements."
   ]
  },
  {
   "cell_type": "code",
   "execution_count": 1,
   "metadata": {},
   "outputs": [
    {
     "data": {
      "text/html": [
       "<div>\n",
       "<style scoped>\n",
       "    .dataframe tbody tr th:only-of-type {\n",
       "        vertical-align: middle;\n",
       "    }\n",
       "\n",
       "    .dataframe tbody tr th {\n",
       "        vertical-align: top;\n",
       "    }\n",
       "\n",
       "    .dataframe thead th {\n",
       "        text-align: right;\n",
       "    }\n",
       "</style>\n",
       "<table border=\"1\" class=\"dataframe\">\n",
       "  <thead>\n",
       "    <tr style=\"text-align: right;\">\n",
       "      <th></th>\n",
       "      <th>Domain name</th>\n",
       "      <th>MBFC Factual</th>\n",
       "      <th>MBFC Cat</th>\n",
       "      <th>MBFC Cred</th>\n",
       "      <th>Global Site Rank</th>\n",
       "      <th>Wikipedia article</th>\n",
       "      <th>Misinfo.me</th>\n",
       "      <th>Fact-checks</th>\n",
       "    </tr>\n",
       "  </thead>\n",
       "  <tbody>\n",
       "    <tr>\n",
       "      <th>0</th>\n",
       "      <td>100percentfedup.com</td>\n",
       "      <td>L</td>\n",
       "      <td>FN</td>\n",
       "      <td>L</td>\n",
       "      <td>72.284</td>\n",
       "      <td>NaN</td>\n",
       "      <td>-0.91</td>\n",
       "      <td>100 Percent Fed Up</td>\n",
       "    </tr>\n",
       "    <tr>\n",
       "      <th>1</th>\n",
       "      <td>10news.one</td>\n",
       "      <td>L</td>\n",
       "      <td>FN</td>\n",
       "      <td>L</td>\n",
       "      <td>30,000,000</td>\n",
       "      <td>NaN</td>\n",
       "      <td>0.00</td>\n",
       "      <td>10News.one</td>\n",
       "    </tr>\n",
       "    <tr>\n",
       "      <th>2</th>\n",
       "      <td>12minutos.com</td>\n",
       "      <td>L</td>\n",
       "      <td>FN</td>\n",
       "      <td>L</td>\n",
       "      <td>276.039</td>\n",
       "      <td>NaN</td>\n",
       "      <td>-1.00</td>\n",
       "      <td>12minutos.com</td>\n",
       "    </tr>\n",
       "    <tr>\n",
       "      <th>3</th>\n",
       "      <td>163.com</td>\n",
       "      <td>M</td>\n",
       "      <td>FN</td>\n",
       "      <td>L</td>\n",
       "      <td>309</td>\n",
       "      <td>W</td>\n",
       "      <td>0.23</td>\n",
       "      <td>NetEase</td>\n",
       "    </tr>\n",
       "    <tr>\n",
       "      <th>4</th>\n",
       "      <td>1tv.ru</td>\n",
       "      <td>M</td>\n",
       "      <td>FN</td>\n",
       "      <td>L</td>\n",
       "      <td>2.598</td>\n",
       "      <td>W</td>\n",
       "      <td>0.28</td>\n",
       "      <td>Channel One Russia</td>\n",
       "    </tr>\n",
       "  </tbody>\n",
       "</table>\n",
       "</div>"
      ],
      "text/plain": [
       "           Domain name MBFC Factual MBFC Cat MBFC Cred Global Site Rank  \\\n",
       "0  100percentfedup.com            L       FN         L           72.284   \n",
       "1           10news.one            L       FN         L       30,000,000   \n",
       "2        12minutos.com            L       FN         L          276.039   \n",
       "3              163.com            M       FN         L              309   \n",
       "4               1tv.ru            M       FN         L            2.598   \n",
       "\n",
       "  Wikipedia article  Misinfo.me         Fact-checks  \n",
       "0               NaN       -0.91  100 Percent Fed Up  \n",
       "1               NaN        0.00          10News.one  \n",
       "2               NaN       -1.00       12minutos.com  \n",
       "3                 W        0.23             NetEase  \n",
       "4                 W        0.28  Channel One Russia  "
      ]
     },
     "execution_count": 1,
     "metadata": {},
     "output_type": "execute_result"
    }
   ],
   "source": [
    "import pandas as pd\n",
    "\n",
    "newssites = pd.read_excel(\"iffy_index.xlsx\")\n",
    "newssites.head()"
   ]
  },
  {
   "cell_type": "markdown",
   "metadata": {},
   "source": [
    "Misinfo.me rates the sites' credibility from low (-1.0) to high (1.0). To only include the most interesting domain names, we will filter out those that have a positive credibility rating. Next, we will create a new column and add the prefix 'https://' to every domain name to be able to use them with the `requests` library. This library is needed to send HTTP requests to the ads.txt URLs. "
   ]
  },
  {
   "cell_type": "code",
   "execution_count": 2,
   "metadata": {},
   "outputs": [],
   "source": [
    "newssites = newssites[newssites[\"Misinfo.me\"] >= 0]\n",
    "newssites[\"Domain name\"] = \"https://\" + newssites[\"Domain name\"]"
   ]
  },
  {
   "cell_type": "markdown",
   "metadata": {},
   "source": [
    "## Extracting the data\n",
    "\n",
    "The Iffy Index was last updated in January 2024, so some of the sites may no longer be functioning. Moreover, not all sites in the dataset will have an ads.txt file. According to IAB Technology Laboratory, who introduced the initiative, 44% of publishers had ads.txt files in 2017 (IAB, 2017). We will send a HTTP request to each domain's ads.txt URL, and store its text content if available. Ads.txt files are uploaded to the root directory of a website, e.g. *example.com/ads.txt*. "
   ]
  },
  {
   "cell_type": "code",
   "execution_count": 6,
   "metadata": {},
   "outputs": [],
   "source": [
    "import requests\n",
    "import warnings\n",
    "\n",
    "warnings.filterwarnings(\"ignore\")\n",
    "\n",
    "def request_adstxt(urls, timeout=10):\n",
    "    adstxt_files = []\n",
    "\n",
    "    headers = {\n",
    "        \"User-Agent\":\n",
    "        \"Mozilla/5.0 (Windows NT 10.0; Win64; x64) AppleWebKit/537.36 (KHTML, like Gecko) Chrome/122.0.0.0 Safari/537.36\",\n",
    "        \"Accept\":\n",
    "        \"text/plain\"\n",
    "    }\n",
    "\n",
    "    for url in urls:\n",
    "        ads_url = f\"{url}/ads.txt\"\n",
    "        try:\n",
    "            response = requests.get(ads_url, headers=headers, timeout=timeout, verify=False)\n",
    "            if response.status_code == 200:\n",
    "                text = response.text.lower()\n",
    "                # Filter out cases where the server returns a HTML error page\n",
    "                if \"hmtl\" not in text and \"body\" not in text and \"div\" not in text and \"span\" not in text:\n",
    "                    adstxt_files.append({\"domain\": url, \"text\": text})\n",
    "        except:\n",
    "            # If an error occurs, skip the URL\n",
    "            pass\n",
    "\n",
    "    return adstxt_files\n",
    "\n",
    "newssite_urls = newssites[\"Domain name\"].tolist()\n",
    "adstxt_content = request_adstxt(newssite_urls[0:10])"
   ]
  },
  {
   "cell_type": "markdown",
   "metadata": {},
   "source": [
    "How many of the publishers in the dataset had a functioning news website with an ads.txt URL?"
   ]
  },
  {
   "cell_type": "code",
   "execution_count": 10,
   "metadata": {},
   "outputs": [
    {
     "name": "stdout",
     "output_type": "stream",
     "text": [
      "Percentage of domains with a functioning site and ads.txt URL: 0.72%\n"
     ]
    }
   ],
   "source": [
    "percentage_adstxt = (len(adstxt_content) / len(newssites)) * 100\n",
    "\n",
    "print(\"Percentage of domains with a functioning site and ads.txt URL: {:.2f}%\".format(percentage_adstxt))"
   ]
  },
  {
   "cell_type": "markdown",
   "metadata": {},
   "source": [
    "Ads.txt files need to be a certain format in order for them to be crawled by advertising networks. [Google Adsense](https://support.google.com/adsense/answer/12171612?hl=en) has set up a few formatting guidelines to follow. Each line in the file uses the CSV style formatting, and can have three to four values. Comments are signalled by a # character. We will use a regular expression to extract all of these values from the ads.txt files, excluding any comments."
   ]
  },
  {
   "cell_type": "code",
   "execution_count": 4,
   "metadata": {},
   "outputs": [
    {
     "data": {
      "text/html": [
       "<div>\n",
       "<style scoped>\n",
       "    .dataframe tbody tr th:only-of-type {\n",
       "        vertical-align: middle;\n",
       "    }\n",
       "\n",
       "    .dataframe tbody tr th {\n",
       "        vertical-align: top;\n",
       "    }\n",
       "\n",
       "    .dataframe thead th {\n",
       "        text-align: right;\n",
       "    }\n",
       "</style>\n",
       "<table border=\"1\" class=\"dataframe\">\n",
       "  <thead>\n",
       "    <tr style=\"text-align: right;\">\n",
       "      <th></th>\n",
       "      <th>Domain name</th>\n",
       "      <th>Ad network</th>\n",
       "      <th>Seller account ID</th>\n",
       "      <th>Account type</th>\n",
       "      <th>Tag ID</th>\n",
       "    </tr>\n",
       "  </thead>\n",
       "  <tbody>\n",
       "    <tr>\n",
       "      <th>0</th>\n",
       "      <td>https://24jours.com</td>\n",
       "      <td>google.com</td>\n",
       "      <td>pub-3644207740963104</td>\n",
       "      <td>direct</td>\n",
       "      <td>f08c47fec0942fa0</td>\n",
       "    </tr>\n",
       "    <tr>\n",
       "      <th>1</th>\n",
       "      <td>https://4chan.org</td>\n",
       "      <td>pubfuture.com</td>\n",
       "      <td>6577d96458f9186175745535</td>\n",
       "      <td>direct</td>\n",
       "      <td></td>\n",
       "    </tr>\n",
       "    <tr>\n",
       "      <th>2</th>\n",
       "      <td>https://4chan.org</td>\n",
       "      <td>33across.com</td>\n",
       "      <td>0015a00002egvrsaay</td>\n",
       "      <td>reseller</td>\n",
       "      <td>bbea06d9c4d2853c</td>\n",
       "    </tr>\n",
       "    <tr>\n",
       "      <th>3</th>\n",
       "      <td>https://4chan.org</td>\n",
       "      <td>admanmedia.com</td>\n",
       "      <td>2026</td>\n",
       "      <td>direct</td>\n",
       "      <td></td>\n",
       "    </tr>\n",
       "    <tr>\n",
       "      <th>4</th>\n",
       "      <td>https://4chan.org</td>\n",
       "      <td>appnexus.com</td>\n",
       "      <td>15349</td>\n",
       "      <td>reseller</td>\n",
       "      <td>f5ab79cb980f11d1</td>\n",
       "    </tr>\n",
       "  </tbody>\n",
       "</table>\n",
       "</div>"
      ],
      "text/plain": [
       "           Domain name      Ad network         Seller account ID Account type  \\\n",
       "0  https://24jours.com      google.com      pub-3644207740963104       direct   \n",
       "1    https://4chan.org   pubfuture.com  6577d96458f9186175745535       direct   \n",
       "2    https://4chan.org    33across.com        0015a00002egvrsaay     reseller   \n",
       "3    https://4chan.org  admanmedia.com                      2026       direct   \n",
       "4    https://4chan.org    appnexus.com                     15349     reseller   \n",
       "\n",
       "             Tag ID  \n",
       "0  f08c47fec0942fa0  \n",
       "1                    \n",
       "2  bbea06d9c4d2853c  \n",
       "3                    \n",
       "4  f5ab79cb980f11d1  "
      ]
     },
     "execution_count": 4,
     "metadata": {},
     "output_type": "execute_result"
    }
   ],
   "source": [
    "import re\n",
    "\n",
    "def parse_adstxt(adstxt_files):\n",
    "    all_data = []\n",
    "\n",
    "    for file in adstxt_files:\n",
    "        # Regex to parse the information in the ads.txt file\n",
    "        pattern = r'^(?!#)([^,]+),\\s*([\\w-]+),\\s*(\\w+)(?:,\\s*([\\w\\d]+))?.*'\n",
    "\n",
    "        for line in file[\"text\"].split(\"\\n\"):\n",
    "            match = re.match(pattern, line)\n",
    "            if match:\n",
    "                ad_network, seller_account_id, account_type, tag_id = match.groups()\n",
    "\n",
    "                # Check if optional tag_id is present in the line\n",
    "                if tag_id is None:\n",
    "                    tag_id = \"\"\n",
    "\n",
    "                data = {\n",
    "                    \"Domain name\": file[\"domain\"],\n",
    "                    \"Ad network\": ad_network,\n",
    "                    \"Seller account ID\": seller_account_id,\n",
    "                    \"Account type\": account_type,\n",
    "                    \"Tag ID\": tag_id\n",
    "                }\n",
    "                all_data.append(data)\n",
    "\n",
    "    df = pd.DataFrame(all_data)\n",
    "    return df\n",
    "\n",
    "ads_df = parse_adstxt(adstxt_content)\n",
    "ads_df.head()"
   ]
  },
  {
   "cell_type": "markdown",
   "metadata": {},
   "source": [
    "## Data visualisation\n",
    "\n",
    "1. What is the most popular ads.txt partner for all of the publishers? \n",
    "2. How do the publishers with the most advertising partners rank on MBFC?"
   ]
  },
  {
   "cell_type": "code",
   "execution_count": null,
   "metadata": {},
   "outputs": [],
   "source": []
  },
  {
   "cell_type": "markdown",
   "metadata": {},
   "source": [
    "## Sources\n",
    "\n",
    "https://iffy.news/index/#methodology (Golding, 2020)\n",
    "\n",
    "https://support.google.com/adsense/answer/7679060?hl=en\n",
    "\n",
    "https://web.archive.org/web/20180321051456/http://www.adopsinsider.com/ad-exchanges/ads-txt-adoption/ (IAB, 2017)"
   ]
  }
 ],
 "metadata": {
  "kernelspec": {
   "display_name": "iffy",
   "language": "python",
   "name": "python3"
  },
  "language_info": {
   "codemirror_mode": {
    "name": "ipython",
    "version": 3
   },
   "file_extension": ".py",
   "mimetype": "text/x-python",
   "name": "python",
   "nbconvert_exporter": "python",
   "pygments_lexer": "ipython3",
   "version": "3.11.9"
  }
 },
 "nbformat": 4,
 "nbformat_minor": 2
}
